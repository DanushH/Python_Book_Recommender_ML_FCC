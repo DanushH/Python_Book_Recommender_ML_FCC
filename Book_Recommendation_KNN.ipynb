{
  "cells": [
    {
      "cell_type": "code",
      "execution_count": 1,
      "metadata": {
        "id": "Y1onB6kUvo4Z"
      },
      "outputs": [],
      "source": [
        "# import libraries\n",
        "import numpy as np\n",
        "import pandas as pd\n",
        "from scipy.sparse import csr_matrix\n",
        "from sklearn.neighbors import NearestNeighbors\n",
        "import matplotlib.pyplot as plt\n"
      ]
    },
    {
      "cell_type": "code",
      "execution_count": 2,
      "metadata": {
        "id": "iAQGqqO_vo4d",
        "colab": {
          "base_uri": "https://localhost:8080/"
        },
        "outputId": "338ee757-4bb1-4a9c-eed2-1ed2fa8ab6f4"
      },
      "outputs": [
        {
          "output_type": "stream",
          "name": "stdout",
          "text": [
            "--2023-12-08 06:38:47--  https://cdn.freecodecamp.org/project-data/books/book-crossings.zip\n",
            "Resolving cdn.freecodecamp.org (cdn.freecodecamp.org)... 104.26.3.33, 172.67.70.149, 104.26.2.33, ...\n",
            "Connecting to cdn.freecodecamp.org (cdn.freecodecamp.org)|104.26.3.33|:443... connected.\n",
            "HTTP request sent, awaiting response... 200 OK\n",
            "Length: 26085508 (25M) [application/zip]\n",
            "Saving to: ‘book-crossings.zip’\n",
            "\n",
            "book-crossings.zip  100%[===================>]  24.88M  --.-KB/s    in 0.1s    \n",
            "\n",
            "2023-12-08 06:38:48 (189 MB/s) - ‘book-crossings.zip’ saved [26085508/26085508]\n",
            "\n",
            "Archive:  book-crossings.zip\n",
            "  inflating: BX-Book-Ratings.csv     \n",
            "  inflating: BX-Books.csv            \n",
            "  inflating: BX-Users.csv            \n"
          ]
        }
      ],
      "source": [
        "# get data files\n",
        "!wget https://cdn.freecodecamp.org/project-data/books/book-crossings.zip\n",
        "\n",
        "!unzip book-crossings.zip\n",
        "\n",
        "books_filename = 'BX-Books.csv'\n",
        "ratings_filename = 'BX-Book-Ratings.csv'\n"
      ]
    },
    {
      "cell_type": "code",
      "execution_count": 3,
      "metadata": {
        "id": "NClILWOiEd6Q"
      },
      "outputs": [],
      "source": [
        "# import csv data into dataframes\n",
        "df_books = pd.read_csv(\n",
        "    books_filename,\n",
        "    encoding = \"ISO-8859-1\",\n",
        "    sep=\";\",\n",
        "    header=0,\n",
        "    names=['isbn', 'title', 'author'],\n",
        "    usecols=['isbn', 'title', 'author'],\n",
        "    dtype={'isbn': 'str', 'title': 'str', 'author': 'str'})\n",
        "\n",
        "df_ratings = pd.read_csv(\n",
        "    ratings_filename,\n",
        "    encoding = \"ISO-8859-1\",\n",
        "    sep=\";\",\n",
        "    header=0,\n",
        "    names=['user', 'isbn', 'rating'],\n",
        "    usecols=['user', 'isbn', 'rating'],\n",
        "    dtype={'user': 'int32', 'isbn': 'str', 'rating': 'float32'})\n"
      ]
    },
    {
      "cell_type": "code",
      "source": [
        "print(df_books.head(2))\n",
        "print(df_ratings.head(2))\n"
      ],
      "metadata": {
        "id": "IVYktYe4xDba",
        "colab": {
          "base_uri": "https://localhost:8080/"
        },
        "outputId": "da40aef0-216c-4e89-bd64-ef4138a4b10d"
      },
      "execution_count": 4,
      "outputs": [
        {
          "output_type": "stream",
          "name": "stdout",
          "text": [
            "         isbn                title                author\n",
            "0  0195153448  Classical Mythology    Mark P. O. Morford\n",
            "1  0002005018         Clara Callan  Richard Bruce Wright\n",
            "     user        isbn  rating\n",
            "0  276725  034545104X     0.0\n",
            "1  276726  0155061224     5.0\n"
          ]
        }
      ]
    },
    {
      "cell_type": "code",
      "source": [
        "# filter by rates count\n",
        "df_books_copy = df_ratings.groupby([\"isbn\"]).count().reset_index()\n",
        "highly_rated_books = df_books_copy.loc[df_books_copy[\"rating\"] >= 100][\"isbn\"]\n",
        "\n",
        "highly_rated_books = df_books.loc[df_books[\"isbn\"].isin(highly_rated_books)]\n",
        "print(highly_rated_books.head(2))\n"
      ],
      "metadata": {
        "id": "NUHVG33OxDPL",
        "colab": {
          "base_uri": "https://localhost:8080/"
        },
        "outputId": "6f585dfc-e053-4d13-f841-81ecec0b0220"
      },
      "execution_count": 5,
      "outputs": [
        {
          "output_type": "stream",
          "name": "stdout",
          "text": [
            "          isbn                                 title         author\n",
            "18  0440234743                         The Testament   John Grisham\n",
            "19  0452264464  Beloved (Plume Contemporary Fiction)  Toni Morrison\n"
          ]
        }
      ]
    },
    {
      "cell_type": "code",
      "source": [
        "# filter by rates from highly active users\n",
        "df_users_copy = df_ratings[[\"user\", \"rating\"]].groupby([\"user\"]).count().reset_index()\n",
        "\n",
        "highly_active_users = df_users_copy.loc[df_users_copy[\"rating\"] >= 200][\"user\"]\n",
        "\n",
        "df_filtered = df_ratings.loc[df_ratings[\"user\"].isin(highly_active_users)]\n",
        "df_filtered = df_filtered.loc[df_filtered[\"isbn\"].isin(highly_rated_books[\"isbn\"])]\n",
        "print(df_filtered.head(2))\n"
      ],
      "metadata": {
        "id": "vi_qrfkGyPKn",
        "colab": {
          "base_uri": "https://localhost:8080/"
        },
        "outputId": "8d08f5eb-ed4b-47b5-b912-b2f078c154f7"
      },
      "execution_count": 6,
      "outputs": [
        {
          "output_type": "stream",
          "name": "stdout",
          "text": [
            "        user        isbn  rating\n",
            "1456  277427  002542730X    10.0\n",
            "1469  277427  0060930535     0.0\n"
          ]
        }
      ]
    },
    {
      "cell_type": "code",
      "source": [
        "# convert df_filtered to scipy sparse matrix\n",
        "df_book_features = df_filtered.pivot(\n",
        "    index='isbn',\n",
        "    columns='user',\n",
        "    values='rating'\n",
        ").fillna(0)\n",
        "\n",
        "matrix_book_features = csr_matrix(df_book_features.values)\n"
      ],
      "metadata": {
        "id": "pzRV62aLyPC0"
      },
      "execution_count": 7,
      "outputs": []
    },
    {
      "cell_type": "code",
      "source": [
        "print(df_book_features.head(2))\n"
      ],
      "metadata": {
        "id": "NlpxXA-PyO1j",
        "colab": {
          "base_uri": "https://localhost:8080/"
        },
        "outputId": "93ef1d90-092e-4307-f4fb-3140fc1997cc"
      },
      "execution_count": 8,
      "outputs": [
        {
          "output_type": "stream",
          "name": "stdout",
          "text": [
            "user        254     2276    2766    2977    3363    4017    4385    6242    \\\n",
            "isbn                                                                         \n",
            "002542730X     0.0     0.0     0.0     0.0     0.0     0.0     0.0     0.0   \n",
            "0060008032     0.0     0.0     0.0     0.0     0.0     0.0     0.0     0.0   \n",
            "\n",
            "user        6251    6323    ...  274004  274061  274301  274308  274808  \\\n",
            "isbn                        ...                                           \n",
            "002542730X     0.0     0.0  ...     0.0     0.0     0.0     0.0     0.0   \n",
            "0060008032     0.0     0.0  ...     0.0     0.0     0.0     0.0     0.0   \n",
            "\n",
            "user        275970  277427  277478  277639  278418  \n",
            "isbn                                                \n",
            "002542730X     0.0    10.0     0.0     0.0     0.0  \n",
            "0060008032     0.0     0.0     0.0     0.0     0.0  \n",
            "\n",
            "[2 rows x 888 columns]\n"
          ]
        }
      ]
    },
    {
      "cell_type": "code",
      "source": [
        "# build the model\n",
        "model = NearestNeighbors(metric='cosine')\n",
        "model.fit(matrix_book_features)\n"
      ],
      "metadata": {
        "id": "GBiVwiunyaZh",
        "colab": {
          "base_uri": "https://localhost:8080/",
          "height": 75
        },
        "outputId": "cbafa593-cf34-46c4-c044-eed3b18b845d"
      },
      "execution_count": 9,
      "outputs": [
        {
          "output_type": "execute_result",
          "data": {
            "text/plain": [
              "NearestNeighbors(metric='cosine')"
            ],
            "text/html": [
              "<style>#sk-container-id-1 {color: black;background-color: white;}#sk-container-id-1 pre{padding: 0;}#sk-container-id-1 div.sk-toggleable {background-color: white;}#sk-container-id-1 label.sk-toggleable__label {cursor: pointer;display: block;width: 100%;margin-bottom: 0;padding: 0.3em;box-sizing: border-box;text-align: center;}#sk-container-id-1 label.sk-toggleable__label-arrow:before {content: \"▸\";float: left;margin-right: 0.25em;color: #696969;}#sk-container-id-1 label.sk-toggleable__label-arrow:hover:before {color: black;}#sk-container-id-1 div.sk-estimator:hover label.sk-toggleable__label-arrow:before {color: black;}#sk-container-id-1 div.sk-toggleable__content {max-height: 0;max-width: 0;overflow: hidden;text-align: left;background-color: #f0f8ff;}#sk-container-id-1 div.sk-toggleable__content pre {margin: 0.2em;color: black;border-radius: 0.25em;background-color: #f0f8ff;}#sk-container-id-1 input.sk-toggleable__control:checked~div.sk-toggleable__content {max-height: 200px;max-width: 100%;overflow: auto;}#sk-container-id-1 input.sk-toggleable__control:checked~label.sk-toggleable__label-arrow:before {content: \"▾\";}#sk-container-id-1 div.sk-estimator input.sk-toggleable__control:checked~label.sk-toggleable__label {background-color: #d4ebff;}#sk-container-id-1 div.sk-label input.sk-toggleable__control:checked~label.sk-toggleable__label {background-color: #d4ebff;}#sk-container-id-1 input.sk-hidden--visually {border: 0;clip: rect(1px 1px 1px 1px);clip: rect(1px, 1px, 1px, 1px);height: 1px;margin: -1px;overflow: hidden;padding: 0;position: absolute;width: 1px;}#sk-container-id-1 div.sk-estimator {font-family: monospace;background-color: #f0f8ff;border: 1px dotted black;border-radius: 0.25em;box-sizing: border-box;margin-bottom: 0.5em;}#sk-container-id-1 div.sk-estimator:hover {background-color: #d4ebff;}#sk-container-id-1 div.sk-parallel-item::after {content: \"\";width: 100%;border-bottom: 1px solid gray;flex-grow: 1;}#sk-container-id-1 div.sk-label:hover label.sk-toggleable__label {background-color: #d4ebff;}#sk-container-id-1 div.sk-serial::before {content: \"\";position: absolute;border-left: 1px solid gray;box-sizing: border-box;top: 0;bottom: 0;left: 50%;z-index: 0;}#sk-container-id-1 div.sk-serial {display: flex;flex-direction: column;align-items: center;background-color: white;padding-right: 0.2em;padding-left: 0.2em;position: relative;}#sk-container-id-1 div.sk-item {position: relative;z-index: 1;}#sk-container-id-1 div.sk-parallel {display: flex;align-items: stretch;justify-content: center;background-color: white;position: relative;}#sk-container-id-1 div.sk-item::before, #sk-container-id-1 div.sk-parallel-item::before {content: \"\";position: absolute;border-left: 1px solid gray;box-sizing: border-box;top: 0;bottom: 0;left: 50%;z-index: -1;}#sk-container-id-1 div.sk-parallel-item {display: flex;flex-direction: column;z-index: 1;position: relative;background-color: white;}#sk-container-id-1 div.sk-parallel-item:first-child::after {align-self: flex-end;width: 50%;}#sk-container-id-1 div.sk-parallel-item:last-child::after {align-self: flex-start;width: 50%;}#sk-container-id-1 div.sk-parallel-item:only-child::after {width: 0;}#sk-container-id-1 div.sk-dashed-wrapped {border: 1px dashed gray;margin: 0 0.4em 0.5em 0.4em;box-sizing: border-box;padding-bottom: 0.4em;background-color: white;}#sk-container-id-1 div.sk-label label {font-family: monospace;font-weight: bold;display: inline-block;line-height: 1.2em;}#sk-container-id-1 div.sk-label-container {text-align: center;}#sk-container-id-1 div.sk-container {/* jupyter's `normalize.less` sets `[hidden] { display: none; }` but bootstrap.min.css set `[hidden] { display: none !important; }` so we also need the `!important` here to be able to override the default hidden behavior on the sphinx rendered scikit-learn.org. See: https://github.com/scikit-learn/scikit-learn/issues/21755 */display: inline-block !important;position: relative;}#sk-container-id-1 div.sk-text-repr-fallback {display: none;}</style><div id=\"sk-container-id-1\" class=\"sk-top-container\"><div class=\"sk-text-repr-fallback\"><pre>NearestNeighbors(metric=&#x27;cosine&#x27;)</pre><b>In a Jupyter environment, please rerun this cell to show the HTML representation or trust the notebook. <br />On GitHub, the HTML representation is unable to render, please try loading this page with nbviewer.org.</b></div><div class=\"sk-container\" hidden><div class=\"sk-item\"><div class=\"sk-estimator sk-toggleable\"><input class=\"sk-toggleable__control sk-hidden--visually\" id=\"sk-estimator-id-1\" type=\"checkbox\" checked><label for=\"sk-estimator-id-1\" class=\"sk-toggleable__label sk-toggleable__label-arrow\">NearestNeighbors</label><div class=\"sk-toggleable__content\"><pre>NearestNeighbors(metric=&#x27;cosine&#x27;)</pre></div></div></div></div></div>"
            ]
          },
          "metadata": {},
          "execution_count": 9
        }
      ]
    },
    {
      "cell_type": "code",
      "execution_count": 10,
      "metadata": {
        "id": "f5ZUd-L1SQz7",
        "colab": {
          "base_uri": "https://localhost:8080/"
        },
        "outputId": "113ba30e-41bb-4b32-b895-2321c17c43af"
      },
      "outputs": [
        {
          "output_type": "execute_result",
          "data": {
            "text/plain": [
              "['The Queen of the Damned (Vampire Chronicles (Paperback))',\n",
              " [['Catch 22', 0.7939835],\n",
              "  ['The Witching Hour (Lives of the Mayfair Witches)', 0.74486566],\n",
              "  ['Interview with the Vampire', 0.73450685],\n",
              "  ['The Tale of the Body Thief (Vampire Chronicles (Paperback))', 0.53763384],\n",
              "  ['The Vampire Lestat (Vampire Chronicles, Book II)', 0.51784116]]]"
            ]
          },
          "metadata": {},
          "execution_count": 10
        }
      ],
      "source": [
        "# function to return recommended books - this will be tested\n",
        "def get_recommends(book = \"\"):\n",
        "    try:\n",
        "        title = highly_rated_books.loc[highly_rated_books[\"title\"] == book]\n",
        "    except KeyError as e:\n",
        "        return\n",
        "\n",
        "    bk = df_book_features.loc[df_book_features.index.isin(title[\"isbn\"])]\n",
        "    query_point = [i for i in bk.values]\n",
        "    k = 6\n",
        "    distance, index = model.kneighbors(query_point, n_neighbors = k)\n",
        "\n",
        "    distance =  distance[0][1:]\n",
        "    index = index[0][1:]\n",
        "\n",
        "    books = [\n",
        "        df_books.loc[df_books['isbn'] == df_book_features.iloc[i].name][\"title\"].values[0]\n",
        "        for i in index\n",
        "    ]\n",
        "\n",
        "    recommended = [list(i) for i in zip(books, distance)][::-1]\n",
        "    return [book, recommended]\n",
        "\n",
        "get_recommends(\"The Queen of the Damned (Vampire Chronicles (Paperback))\")\n"
      ]
    },
    {
      "cell_type": "code",
      "execution_count": 11,
      "metadata": {
        "id": "jd2SLCh8oxMh",
        "colab": {
          "base_uri": "https://localhost:8080/"
        },
        "outputId": "ca29fe33-2da2-402f-cdc6-ad7a0d464cab"
      },
      "outputs": [
        {
          "output_type": "stream",
          "name": "stdout",
          "text": [
            "[\"Where the Heart Is (Oprah's Book Club (Paperback))\", [[\"I'll Be Seeing You\", 0.8016211], ['The Weight of Water', 0.77085835], ['The Surgeon', 0.7699411], ['I Know This Much Is True', 0.7677075], ['The Lovely Bones: A Novel', 0.7234864]]]\n",
            "You passed the challenge! 🎉🎉🎉🎉🎉\n"
          ]
        }
      ],
      "source": [
        "# test code\n",
        "books = get_recommends(\"Where the Heart Is (Oprah's Book Club (Paperback))\")\n",
        "print(books)\n",
        "\n",
        "def test_book_recommendation():\n",
        "  test_pass = True\n",
        "  recommends = get_recommends(\"Where the Heart Is (Oprah's Book Club (Paperback))\")\n",
        "  if recommends[0] != \"Where the Heart Is (Oprah's Book Club (Paperback))\":\n",
        "    test_pass = False\n",
        "  recommended_books = [\"I'll Be Seeing You\", 'The Weight of Water', 'The Surgeon', 'I Know This Much Is True']\n",
        "  recommended_books_dist = [0.8, 0.77, 0.77, 0.77]\n",
        "  for i in range(2):\n",
        "    if recommends[1][i][0] not in recommended_books:\n",
        "      test_pass = False\n",
        "    if abs(recommends[1][i][1] - recommended_books_dist[i]) >= 0.05:\n",
        "      test_pass = False\n",
        "  if test_pass:\n",
        "    print(\"You passed the challenge! 🎉🎉🎉🎉🎉\")\n",
        "  else:\n",
        "    print(\"You haven't passed yet. Keep trying!\")\n",
        "\n",
        "test_book_recommendation()\n"
      ]
    }
  ],
  "metadata": {
    "colab": {
      "provenance": [],
      "gpuType": "T4"
    },
    "kernelspec": {
      "display_name": "Python 3",
      "name": "python3"
    },
    "language_info": {
      "codemirror_mode": {
        "name": "ipython",
        "version": 3
      },
      "file_extension": ".py",
      "mimetype": "text/x-python",
      "name": "python",
      "nbconvert_exporter": "python",
      "pygments_lexer": "ipython3",
      "version": "3.6.5"
    },
    "accelerator": "GPU"
  },
  "nbformat": 4,
  "nbformat_minor": 0
}